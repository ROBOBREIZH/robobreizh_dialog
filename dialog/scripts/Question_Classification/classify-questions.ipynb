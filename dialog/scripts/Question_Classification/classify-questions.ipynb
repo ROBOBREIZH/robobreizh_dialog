{
 "cells": [
  {
   "cell_type": "code",
   "execution_count": 56,
   "metadata": {},
   "outputs": [],
   "source": [
    "from sklearn import linear_model\n",
    "import gensim\n",
    "import operator\n",
    "import string\n",
    "import random\n",
    "import numpy as np\n",
    "from sklearn.preprocessing import LabelEncoder\n",
    "from sklearn import metrics"
   ]
  },
  {
   "cell_type": "code",
   "execution_count": 12,
   "metadata": {
    "collapsed": true
   },
   "outputs": [],
   "source": [
    "def load_data(filename):\n",
    "    res = []\n",
    "    with open(filename, 'r') as f:\n",
    "        for line in f:\n",
    "            question, label = line.split(\",,,\", 1)\n",
    "            res.append((question.strip(), label.strip()))\n",
    "    return res"
   ]
  },
  {
   "cell_type": "code",
   "execution_count": 57,
   "metadata": {
    "collapsed": true
   },
   "outputs": [],
   "source": [
    "def precision(y_true, y_pred, strategy='weighted'):\n",
    "    return metrics.precision_score(y_true, y_pred, average=strategy)\n",
    "\n",
    "def recall(y_true, y_pred, strategy='weighted'):\n",
    "    return metrics.recall_score(y_true, y_pred, average=strategy)\n",
    "\n",
    "def f1_score(y_true, y_pred, strategy='weighted'):\n",
    "    return metrics.f1_score(y_true, y_pred, average=strategy)"
   ]
  },
  {
   "cell_type": "code",
   "execution_count": 59,
   "metadata": {
    "collapsed": true
   },
   "outputs": [],
   "source": [
    "def training_error(y_true, y_pred):\n",
    "    prec = precision(y_true, y_pred)\n",
    "    rec = recall(y_true, y_pred)\n",
    "    f1 = f1_score(y_true, y_pred)\n",
    "    return {\"precision\": prec, \"recall\": rec, \"f1-score\": f1}"
   ]
  },
  {
   "cell_type": "code",
   "execution_count": 42,
   "metadata": {},
   "outputs": [],
   "source": [
    "word_vector_path = \"data/glove_new.txt\"\n",
    "training_data_path = \"data/train.txt\"\n",
    "vector_dim = 50\n",
    "# gensim.scripts.glove2word2vec.glove2word2vec(word_vector_path, \"data/glove2.txt\")\n",
    "word_vector = gensim.models.KeyedVectors.load_word2vec_format(\"data/glove.txt\", binary=False)"
   ]
  },
  {
   "cell_type": "code",
   "execution_count": 5,
   "metadata": {
    "collapsed": true
   },
   "outputs": [],
   "source": [
    "WHEN_TYPE        = 'when'\n",
    "WHAT_TYPE        = 'what'\n",
    "WHO_TYPE         = 'who'\n",
    "AFFIRMATIVE_TYPE = 'affirmation'\n",
    "UNKNOWN_TYPE     = 'unknown'\n",
    "\n",
    "ALL_TYPES = [WHEN_TYPE, WHAT_TYPE, WHO_TYPE, AFFIRMATIVE_TYPE, UNKNOWN_TYPE]"
   ]
  },
  {
   "cell_type": "code",
   "execution_count": 6,
   "metadata": {
    "collapsed": true
   },
   "outputs": [],
   "source": [
    "def create_vector(question):\n",
    "    global word_vector\n",
    "    \n",
    "    splitted = question.split(\" \")\n",
    "    vector = np.zeros(vector_dim)\n",
    "    count = 2.0\n",
    "    try:\n",
    "        if len(splitted) == 0:\n",
    "            return vector\n",
    "        else:\n",
    "            vector = map(operator.add,\n",
    "                         word_vector[splitted[0].lower()],\n",
    "                         vector)\n",
    "            if len(splitted) == 1:\n",
    "                return np.asarray(vector)\n",
    "            vector = map(operator.add,\n",
    "                         word_vector[splitted[1].lower()],\n",
    "                         vector)\n",
    "            if (splitted[0].lower() == 'what' and\n",
    "                    splitted[1].lower() == 'is'):\n",
    "                count = 0.0\n",
    "                vector = np.zeros(vector_dim)\n",
    "                for token in splitted:\n",
    "                    count += 1\n",
    "                    try:\n",
    "                        vector = map(operator.add,\n",
    "                                     word_vector[token.lower()],\n",
    "                                     vector)\n",
    "                    except KeyError:\n",
    "                        count -=1\n",
    "                if count == 0:\n",
    "                    return np.asarray(vector)\n",
    "                return np.asarray(vector) / count\n",
    "            return np.asarray(vector) / count\n",
    "    except KeyError:\n",
    "        return vector"
   ]
  },
  {
   "cell_type": "code",
   "execution_count": 60,
   "metadata": {},
   "outputs": [
    {
     "name": "stdout",
     "output_type": "stream",
     "text": [
      "{'recall': 0.94351042367182247, 'f1-score': 0.94298249678919555, 'precision': 0.94323655353861802}\n",
      "['what' 'when' 'affirmation' 'when']\n"
     ]
    }
   ],
   "source": [
    "train_data = load_data(training_data_path)\n",
    "test_data = [(\"What's your name?\", \"what\"), (\"When is the show happening?\", \"when\"), (\"Is there a cab available for airport?\", \"affirmation\"), (\"What time does the train leave?\", \"when\")]\n",
    "\n",
    "question_vectors = np.asarray([create_vector(line[0]) for line in train_data])\n",
    "\n",
    "encoder = LabelEncoder()\n",
    "encoder.fit(ALL_TYPES)\n",
    "train_labels = encoder.transform([line[1] for line in train_data])\n",
    "\n",
    "clf = linear_model.LogisticRegression(multi_class='multinomial',solver='lbfgs')\n",
    "clf.fit(question_vectors, train_labels)\n",
    "train_data_prediction = clf.predict([create_vector(line[0].lower()) for line in train_data])\n",
    "test_data_prediction = encoder.inverse_transform(clf.predict([create_vector(line[0].lower()) for line in test_data]))\n",
    "print training_error(train_labels, train_data_prediction)\n",
    "print test_data_prediction"
   ]
  }
 ],
 "metadata": {
  "kernelspec": {
   "display_name": "Python 2",
   "language": "python",
   "name": "python2"
  },
  "language_info": {
   "codemirror_mode": {
    "name": "ipython",
    "version": 2
   },
   "file_extension": ".py",
   "mimetype": "text/x-python",
   "name": "python",
   "nbconvert_exporter": "python",
   "pygments_lexer": "ipython2",
   "version": "2.7.14"
  }
 },
 "nbformat": 4,
 "nbformat_minor": 1
}
